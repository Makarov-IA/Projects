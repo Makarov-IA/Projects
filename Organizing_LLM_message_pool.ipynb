{
 "cells": [
  {
   "cell_type": "code",
   "execution_count": null,
   "metadata": {
    "colab": {
     "base_uri": "https://localhost:8080/"
    },
    "id": "4YwO2lkL6xSL",
    "outputId": "cb103693-5cec-4125-b7fd-834fb35809df"
   },
   "outputs": [
    {
     "name": "stdout",
     "output_type": "stream",
     "text": [
      "Requirement already satisfied: openai in /usr/local/lib/python3.10/dist-packages (1.44.1)\n",
      "Requirement already satisfied: anyio<5,>=3.5.0 in /usr/local/lib/python3.10/dist-packages (from openai) (3.7.1)\n",
      "Requirement already satisfied: distro<2,>=1.7.0 in /usr/lib/python3/dist-packages (from openai) (1.7.0)\n",
      "Requirement already satisfied: httpx<1,>=0.23.0 in /usr/local/lib/python3.10/dist-packages (from openai) (0.27.2)\n",
      "Requirement already satisfied: jiter<1,>=0.4.0 in /usr/local/lib/python3.10/dist-packages (from openai) (0.5.0)\n",
      "Requirement already satisfied: pydantic<3,>=1.9.0 in /usr/local/lib/python3.10/dist-packages (from openai) (2.8.2)\n",
      "Requirement already satisfied: sniffio in /usr/local/lib/python3.10/dist-packages (from openai) (1.3.1)\n",
      "Requirement already satisfied: tqdm>4 in /usr/local/lib/python3.10/dist-packages (from openai) (4.66.5)\n",
      "Requirement already satisfied: typing-extensions<5,>=4.11 in /usr/local/lib/python3.10/dist-packages (from openai) (4.12.2)\n",
      "Requirement already satisfied: idna>=2.8 in /usr/local/lib/python3.10/dist-packages (from anyio<5,>=3.5.0->openai) (3.8)\n",
      "Requirement already satisfied: exceptiongroup in /usr/local/lib/python3.10/dist-packages (from anyio<5,>=3.5.0->openai) (1.2.2)\n",
      "Requirement already satisfied: certifi in /usr/local/lib/python3.10/dist-packages (from httpx<1,>=0.23.0->openai) (2024.8.30)\n",
      "Requirement already satisfied: httpcore==1.* in /usr/local/lib/python3.10/dist-packages (from httpx<1,>=0.23.0->openai) (1.0.5)\n",
      "Requirement already satisfied: h11<0.15,>=0.13 in /usr/local/lib/python3.10/dist-packages (from httpcore==1.*->httpx<1,>=0.23.0->openai) (0.14.0)\n",
      "Requirement already satisfied: annotated-types>=0.4.0 in /usr/local/lib/python3.10/dist-packages (from pydantic<3,>=1.9.0->openai) (0.7.0)\n",
      "Requirement already satisfied: pydantic-core==2.20.1 in /usr/local/lib/python3.10/dist-packages (from pydantic<3,>=1.9.0->openai) (2.20.1)\n"
     ]
    }
   ],
   "source": [
    "!pip install openai"
   ]
  },
  {
   "cell_type": "code",
   "execution_count": null,
   "metadata": {
    "id": "J6rKa_0PCpDy"
   },
   "outputs": [],
   "source": [
    "import asyncio\n",
    "import numpy as np\n",
    "import matplotlib.pyplot as plt\n",
    "import pandas as pd\n",
    "import openai"
   ]
  },
  {
   "cell_type": "code",
   "execution_count": null,
   "metadata": {
    "id": "TwlvT4tYz1Wq"
   },
   "outputs": [],
   "source": [
    "key = \"sk-GTdMRTni6TvS5cytTGRSugYUpk-43_n-RE_7QyualtT3BlbkFJtejXInr2ba7SBUC3g5_OBi_bUyW2rvWAhKzOt3DgwA\""
   ]
  },
  {
   "cell_type": "code",
   "execution_count": null,
   "metadata": {
    "id": "fCE4kHjVEwuQ"
   },
   "outputs": [],
   "source": [
    "client = openai.OpenAI(api_key=key)\n",
    "Coder = client.beta.assistants.create(\n",
    "    name = \"Олег программист\",\n",
    "    instructions = \"Ты программист, ты создаешь код для решения задач\",\n",
    "    tools = [{\"type\" : \"code_interpreter\"}],\n",
    "    model = \"gpt-4o\"\n",
    ")\n",
    "\n",
    "Manager = client.beta.assistants.create(\n",
    "    name = \"Матвей менеджер\",\n",
    "    instructions = \"Ты менеджер, ты анализируешь задачу и передаешь инструкции Олегу программисту\",\n",
    "    tools = [{\"type\" : \"code_interpreter\"}],\n",
    "    model = \"gpt-4o\"\n",
    ")"
   ]
  },
  {
   "cell_type": "code",
   "execution_count": null,
   "metadata": {
    "id": "DJtfzjRO9nPQ"
   },
   "outputs": [],
   "source": [
    "thread = client.beta.threads.create()"
   ]
  },
  {
   "cell_type": "code",
   "execution_count": null,
   "metadata": {
    "id": "a1GenNtMGI_h"
   },
   "outputs": [],
   "source": [
    "message = client.beta.threads.messages.create(\n",
    "    thread_id = thread.id,\n",
    "    role = \"user\",\n",
    "    content = \"Выведи сумму первых 10 чисел фиббоначи и Напиши код для визуализации\"\n",
    ")"
   ]
  },
  {
   "cell_type": "code",
   "execution_count": null,
   "metadata": {
    "id": "KEjUoUAALVmV"
   },
   "outputs": [],
   "source": [
    "run = client.beta.threads.runs.create(\n",
    "    thread_id = thread.id,\n",
    "    assistant_id = Manager.id\n",
    ")"
   ]
  },
  {
   "cell_type": "code",
   "execution_count": null,
   "metadata": {
    "colab": {
     "base_uri": "https://localhost:8080/"
    },
    "id": "XOY6R0qILupD",
    "outputId": "8fd1a34b-4781-440f-d60b-0912d5648fd0"
   },
   "outputs": [
    {
     "data": {
      "text/plain": [
       "Run(id='run_APR4ym9chPHLwmlNunuY5o5D', assistant_id='asst_NUbjPkIBRycf2wgm2teAXAmi', cancelled_at=None, completed_at=None, created_at=1725727323, expires_at=1725727923, failed_at=None, incomplete_details=None, instructions='Ты менеджер, ты анализируешь задачу и передаешь инструкции Олегу программисту', last_error=None, max_completion_tokens=None, max_prompt_tokens=None, metadata={}, model='gpt-4o', object='thread.run', parallel_tool_calls=True, required_action=None, response_format='auto', started_at=None, status='queued', thread_id='thread_hgE9zAIFvVHX5I6Oy4Gnb8ZI', tool_choice='auto', tools=[CodeInterpreterTool(type='code_interpreter')], truncation_strategy=TruncationStrategy(type='auto', last_messages=None), usage=None, temperature=1.0, top_p=1.0, tool_resources={})"
      ]
     },
     "execution_count": 40,
     "metadata": {},
     "output_type": "execute_result"
    }
   ],
   "source": [
    "run"
   ]
  },
  {
   "cell_type": "code",
   "execution_count": null,
   "metadata": {
    "colab": {
     "base_uri": "https://localhost:8080/"
    },
    "id": "WfKWFfd6Q__h",
    "outputId": "b05f9373-c563-490e-e8a9-e1f127119ac8"
   },
   "outputs": [
    {
     "data": {
      "text/plain": [
       "SyncCursorPage[Message](data=[Message(id='msg_kqX7xwnonENsCfZB5gVFkCAQ', assistant_id='asst_NUbjPkIBRycf2wgm2teAXAmi', attachments=[], completed_at=None, content=[ImageFileContentBlock(image_file=ImageFile(file_id='file-FrCmzmqKQicBHbnu7U0Bm54a', detail=None), type='image_file'), TextContentBlock(text=Text(annotations=[], value='Сумма первых 10 чисел Фибоначчи равна 88. \\n\\nВот сами числа: `[0, 1, 1, 2, 3, 5, 8, 13, 21, 34]`.\\n\\nВыше приведена визуализация последовательности. Теперь кратко сформулируем требуемый код, который нужно реализовать в проекте:\\n\\n1. Написать функцию для вычисления первых n чисел Фибоначчи.\\n2. Использовать эту функцию для получения первых 10 чисел последовательности.\\n3. Вычислить сумму полученной последовательности.\\n4. Построить график последовательности чисел Фибоначчи.\\n\\n### Инструкции для Олега\\n```python\\nimport matplotlib.pyplot as plt\\n\\n# Функция для вычисления первых n чисел Фибоначчи\\ndef fibonacci(n):\\n    fib_sequence = [0, 1]\\n    while len(fib_sequence) < n:\\n        fib_sequence.append(fib_sequence[-1] + fib_sequence[-2])\\n    return fib_sequence\\n\\n# Получаем первые 10 чисел Фибоначчи\\nn = 10\\nfib_sequence = fibonacci(n)\\n\\n# Вычисляем сумму первых 10 чисел Фибоначчи\\nfib_sum = sum(fib_sequence)\\nprint(f\"Сумма первых {n} чисел Фибоначчи: {fib_sum}\")\\n\\n# Визуализируем последовательность\\nplt.figure(figsize=(10, 6))\\nplt.plot(range(n), fib_sequence, marker=\\'o\\', linestyle=\\'-\\', color=\\'b\\')\\nplt.title(\\'Первые 10 чисел Фибоначчи\\')\\nplt.xlabel(\\'Позиция в последовательности\\')\\nplt.ylabel(\\'Значение\\')\\nplt.grid(True)\\nplt.show()\\n```\\n\\nЕсли есть вопросы или уточнения — дайте знать!'), type='text')], created_at=1725727337, incomplete_at=None, incomplete_details=None, metadata={}, object='thread.message', role='assistant', run_id='run_APR4ym9chPHLwmlNunuY5o5D', status=None, thread_id='thread_hgE9zAIFvVHX5I6Oy4Gnb8ZI'), Message(id='msg_MZQcWVlFZg6F5gXJacshwOqE', assistant_id='asst_NUbjPkIBRycf2wgm2teAXAmi', attachments=[], completed_at=None, content=[TextContentBlock(text=Text(annotations=[], value='Для начала давайте выведем сумму первых 10 чисел Фибоначчи. Затем визуализируем последовательность.\\n\\nЧисла Фибоначчи определяются следующим образом:\\n- F(0) = 0\\n- F(1) = 1\\n- F(n) = F(n-1) + F(n-2) для n >= 2\\n\\nНачнем с расчета первых 10 чисел и их суммы. Затем напишем код для визуализации последовательности.'), type='text')], created_at=1725727325, incomplete_at=None, incomplete_details=None, metadata={}, object='thread.message', role='assistant', run_id='run_APR4ym9chPHLwmlNunuY5o5D', status=None, thread_id='thread_hgE9zAIFvVHX5I6Oy4Gnb8ZI'), Message(id='msg_AHvbmFMgr2bHABYRz3xyJDJZ', assistant_id=None, attachments=[], completed_at=None, content=[TextContentBlock(text=Text(annotations=[], value='Выведи сумму первых 10 чисел фиббоначи и Напиши код для визуализации'), type='text')], created_at=1725727321, incomplete_at=None, incomplete_details=None, metadata={}, object='thread.message', role='user', run_id=None, status=None, thread_id='thread_hgE9zAIFvVHX5I6Oy4Gnb8ZI')], object='list', first_id='msg_kqX7xwnonENsCfZB5gVFkCAQ', last_id='msg_AHvbmFMgr2bHABYRz3xyJDJZ', has_more=False)"
      ]
     },
     "execution_count": 63,
     "metadata": {},
     "output_type": "execute_result"
    }
   ],
   "source": [
    "data = client.beta.threads.messages.list(thread_id = thread.id)\n",
    "data"
   ]
  },
  {
   "cell_type": "code",
   "execution_count": null,
   "metadata": {
    "id": "a36iCSIIXuTz"
   },
   "outputs": [],
   "source": [
    "id = client.beta.threads.messages.list(thread_id = thread.id).data[0].content[0].image_file.file_id"
   ]
  },
  {
   "cell_type": "code",
   "execution_count": null,
   "metadata": {
    "id": "Rsk5rw8tYeSB"
   },
   "outputs": [],
   "source": [
    "import base64, os"
   ]
  },
  {
   "cell_type": "code",
   "execution_count": null,
   "metadata": {
    "id": "S-HefXWEYhQN"
   },
   "outputs": [],
   "source": [
    "client.files.content(id).write_to_file(\"image.jpg\")\n",
    "client.files.content(\"file-FrCmzmqKQicBHbnu7U0Bm54a\").write_to_file(\"answer.txt\")"
   ]
  },
  {
   "cell_type": "code",
   "execution_count": null,
   "metadata": {
    "id": "sEcs6pt5Ucy7"
   },
   "outputs": [],
   "source": [
    "client = openai.OpenAI(api_key=key)"
   ]
  },
  {
   "cell_type": "code",
   "execution_count": null,
   "metadata": {
    "id": "OUszSClZT2RT"
   },
   "outputs": [],
   "source": [
    "gamer1  = client.beta.assistants.create(\n",
    "    name = \"Игрок1\",\n",
    "    instructions = \"\"\"Ты Игрок1. Ты играешь в угадай число c другим игроком.\n",
    "    Правила следующие: если ты ведущий, ты загадываешь число из множества {1,2,3}, а другой игрок пытается угадать его.\n",
    "    Если угадает, он выиграл, если нет - проиграл, если ты участник ты пытаешься угадать загаданное число\"\"\",\n",
    "    model = \"gpt-4o\"\n",
    ")\n",
    "gamer2  = client.beta.assistants.create(\n",
    "    name = \"Игрок2\",\n",
    "    instructions = \"\"\"Ты Игрок2. Ты играешь в угадай число c другим игроком.\n",
    "    Правила следующие: если ты ведущий, ты загадываешь число из множества {1,2,3}, а другой игрок пытается угадать его.\n",
    "    Если угадает, он выиграл, если нет - проиграл, если ты участник ты пытаешься угадать загаданное число\"\"\",\n",
    "    model = \"gpt-4o\"\n",
    ")\n",
    "gamer3  = client.beta.assistants.create(\n",
    "    name = \"Игрок3\",\n",
    "    instructions = \"\"\"Ты Игрок3. Ты играешь в угадай число c другим игроком.\n",
    "    Правила следующие: если ты ведущий, ты загадываешь число из множества {1,2,3}, а другой игрок пытается угадать его.\n",
    "    Если угадает, он выиграл, если нет - проиграл, если ты участник ты пытаешься угадать загаданное число\"\"\",\n",
    "    model = \"gpt-4o\"\n",
    ")\n",
    "gamer4  = client.beta.assistants.create(\n",
    "    name = \"Игрок4\",\n",
    "    instructions = \"\"\"Ты Игрок4. Ты играешь в угадай число c другим игроком.\n",
    "    Правила следующие: если ты ведущий, ты загадываешь число из множества {1,2,3}, а другой игрок пытается угадать его.\n",
    "    Если угадает, он выиграл, если нет - проиграл, если ты участник ты пытаешься угадать загаданное число\"\"\",\n",
    "    model = \"gpt-4o\"\n",
    ")"
   ]
  },
  {
   "cell_type": "code",
   "execution_count": null,
   "metadata": {
    "id": "CoX2PBxYWEOm"
   },
   "outputs": [],
   "source": [
    "arr = np.zeros(shape=(4,4))\n",
    "arr[0][1], arr[1][0], arr[2][3], arr[3][2] = 1,1,1,1\n",
    "thread = client.beta.threads.create()\n",
    "message = client.beta.threads.messages.create(\n",
    "    thread_id = thread.id,\n",
    "    role = \"user\",\n",
    "    content = \"Задание для Игрока1. Поиграй с Игрок2. Ты ведущий. Игрок2 участник. Задание для Игрок3. Поиграй с Игрок4. Ты ведущий. Игрок4 участник.\"\n",
    ")"
   ]
  },
  {
   "cell_type": "code",
   "execution_count": null,
   "metadata": {
    "id": "76wwrVPRdLts"
   },
   "outputs": [],
   "source": [
    "run = client.beta.threads.runs.create_and_poll(\n",
    "    thread_id = thread.id,\n",
    "    assistant_id = gamer1.id\n",
    ")\n",
    "run = client.beta.threads.runs.create_and_poll(\n",
    "    thread_id = thread.id,\n",
    "    assistant_id = gamer2.id\n",
    ")\n"
   ]
  },
  {
   "cell_type": "code",
   "execution_count": null,
   "metadata": {
    "colab": {
     "base_uri": "https://localhost:8080/"
    },
    "id": "-rg5QmOMd2uz",
    "outputId": "5542598a-463a-4225-e9a1-6a2500917613"
   },
   "outputs": [
    {
     "name": "stdout",
     "output_type": "stream",
     "text": [
      "Message(id='msg_QdwSJenydC12lVK0o7UFnrWs', assistant_id='asst_YvUhtqZVwKtmpwv921UkRr2p', attachments=[], completed_at=None, content=[TextContentBlock(text=Text(annotations=[], value='Я, Игрок 2, загадал своё число.\\n\\nИгрок 1, твоя очередь угадывать. Напиши число от 1 до 3.'), type='text')], created_at=1725746907, incomplete_at=None, incomplete_details=None, metadata={}, object='thread.message', role='assistant', run_id='run_TbC3TsnI5ag1hanjSwKHQrW8', status=None, thread_id='thread_blkrzo18F5dknTIhqum5AhMc')\n",
      "Message(id='msg_x9FARGzfwuWRcIvE4Liooq0o', assistant_id='asst_DRf5LDtP6XrwhrooQxkkU7V1', attachments=[], completed_at=None, content=[TextContentBlock(text=Text(annotations=[], value='Отлично! Начнем игру с Игроком2.\\nЯ загадываю число из множества {1, 2, 3}.\\n\\nИгрок2, твоя очередь! Попробуй угадать мое число. Пожалуйста, напиши число от 1 до 3.'), type='text')], created_at=1725746904, incomplete_at=None, incomplete_details=None, metadata={}, object='thread.message', role='assistant', run_id='run_yDxKaU4spnQlNv1WFGtIA5yA', status=None, thread_id='thread_blkrzo18F5dknTIhqum5AhMc')\n",
      "Message(id='msg_K8mhfdxlWSUahDUIrNuruWCb', assistant_id=None, attachments=[], completed_at=None, content=[TextContentBlock(text=Text(annotations=[], value='Задание для Игрока1. Поиграй с Игрок2. Ты ведущий. Игрок2 участник. Задание для Игрок3. Поиграй с Игрок4. Ты ведущий. Игрок4 участник.'), type='text')], created_at=1725746900, incomplete_at=None, incomplete_details=None, metadata={}, object='thread.message', role='user', run_id=None, status=None, thread_id='thread_blkrzo18F5dknTIhqum5AhMc')\n"
     ]
    }
   ],
   "source": [
    "for i in client.beta.threads.messages.list(thread_id = thread.id):\n",
    "  print(i)"
   ]
  },
  {
   "cell_type": "code",
   "execution_count": null,
   "metadata": {
    "id": "WEaol6wdiOqi"
   },
   "outputs": [],
   "source": [
    "run = client.beta.threads.runs.create_and_poll(\n",
    "    thread_id = thread.id,\n",
    "    assistant_id = gamer1.id\n",
    ")\n",
    "run = client.beta.threads.runs.create_and_poll(\n",
    "    thread_id = thread.id,\n",
    "    assistant_id = gamer2.id\n",
    ")"
   ]
  },
  {
   "cell_type": "code",
   "execution_count": null,
   "metadata": {
    "colab": {
     "base_uri": "https://localhost:8080/"
    },
    "id": "NUedwqCgiP9H",
    "outputId": "ae4add65-2bdf-4fa2-b9f7-b0798bdd493c"
   },
   "outputs": [
    {
     "name": "stdout",
     "output_type": "stream",
     "text": [
      "Message(id='msg_UCi6ivwiV4MbzY5RM23kltNO', assistant_id='asst_YvUhtqZVwKtmpwv921UkRr2p', attachments=[], completed_at=None, content=[TextContentBlock(text=Text(annotations=[], value='Побеждаешь ты! Я, Игрок2, загадываю число от 1 до 3. Можешь пробовать угадать!'), type='text')], created_at=1725746974, incomplete_at=None, incomplete_details=None, metadata={}, object='thread.message', role='assistant', run_id='run_jFO0fFdT6C4YeA7o7A2QrDM2', status=None, thread_id='thread_blkrzo18F5dknTIhqum5AhMc')\n",
      "Message(id='msg_CmbqBs1XtRuiOpbrkrZhd6YK', assistant_id='asst_DRf5LDtP6XrwhrooQxkkU7V1', attachments=[], completed_at=None, content=[TextContentBlock(text=Text(annotations=[], value='Понял, я снова Игрок1. Я загадываю число: готово.\\n\\nТеперь твоя очередь, Игрок2. Попробуй угадать мое число. Напиши число от 1 до 3.'), type='text')], created_at=1725746972, incomplete_at=None, incomplete_details=None, metadata={}, object='thread.message', role='assistant', run_id='run_4DnV5cAYI0PkYtT7tOww4fut', status=None, thread_id='thread_blkrzo18F5dknTIhqum5AhMc')\n",
      "Message(id='msg_QdwSJenydC12lVK0o7UFnrWs', assistant_id='asst_YvUhtqZVwKtmpwv921UkRr2p', attachments=[], completed_at=None, content=[TextContentBlock(text=Text(annotations=[], value='Я, Игрок 2, загадал своё число.\\n\\nИгрок 1, твоя очередь угадывать. Напиши число от 1 до 3.'), type='text')], created_at=1725746907, incomplete_at=None, incomplete_details=None, metadata={}, object='thread.message', role='assistant', run_id='run_TbC3TsnI5ag1hanjSwKHQrW8', status=None, thread_id='thread_blkrzo18F5dknTIhqum5AhMc')\n",
      "Message(id='msg_x9FARGzfwuWRcIvE4Liooq0o', assistant_id='asst_DRf5LDtP6XrwhrooQxkkU7V1', attachments=[], completed_at=None, content=[TextContentBlock(text=Text(annotations=[], value='Отлично! Начнем игру с Игроком2.\\nЯ загадываю число из множества {1, 2, 3}.\\n\\nИгрок2, твоя очередь! Попробуй угадать мое число. Пожалуйста, напиши число от 1 до 3.'), type='text')], created_at=1725746904, incomplete_at=None, incomplete_details=None, metadata={}, object='thread.message', role='assistant', run_id='run_yDxKaU4spnQlNv1WFGtIA5yA', status=None, thread_id='thread_blkrzo18F5dknTIhqum5AhMc')\n",
      "Message(id='msg_K8mhfdxlWSUahDUIrNuruWCb', assistant_id=None, attachments=[], completed_at=None, content=[TextContentBlock(text=Text(annotations=[], value='Задание для Игрока1. Поиграй с Игрок2. Ты ведущий. Игрок2 участник. Задание для Игрок3. Поиграй с Игрок4. Ты ведущий. Игрок4 участник.'), type='text')], created_at=1725746900, incomplete_at=None, incomplete_details=None, metadata={}, object='thread.message', role='user', run_id=None, status=None, thread_id='thread_blkrzo18F5dknTIhqum5AhMc')\n"
     ]
    }
   ],
   "source": []
  },
  {
   "cell_type": "code",
   "execution_count": null,
   "metadata": {
    "id": "WOHs74nekARX"
   },
   "outputs": [],
   "source": [
    "thread = client.beta.threads.create()\n",
    "message = client.beta.threads.messages.create(\n",
    "    thread_id = thread.id,\n",
    "    role = \"user\",\n",
    "    content = \"Задание для Игрока1. Поиграй с Игрок2. Ты ведущий. Игрок2 участник.\"\n",
    ")"
   ]
  },
  {
   "cell_type": "code",
   "execution_count": null,
   "metadata": {
    "id": "z54rw9W-kD7s"
   },
   "outputs": [],
   "source": [
    "run = client.beta.threads.runs.create_and_poll(\n",
    "    thread_id = thread.id,\n",
    "    assistant_id = gamer1.id\n",
    ")"
   ]
  },
  {
   "cell_type": "code",
   "execution_count": null,
   "metadata": {
    "colab": {
     "base_uri": "https://localhost:8080/"
    },
    "id": "Lo69zjPekNpS",
    "outputId": "352a4c3a-d246-409e-ea5c-814e440b8bb2"
   },
   "outputs": [
    {
     "name": "stdout",
     "output_type": "stream",
     "text": [
      "Message(id='msg_n5tUzF4IoAT8nzZaZOKG9jNS', assistant_id='asst_j6i6NOwX9fdyMIT4lh7hOO5Y', attachments=[], completed_at=None, content=[TextContentBlock(text=Text(annotations=[], value='Отлично! Я загадал число от 1 до 3. Попробуй угадать, что это за число!'), type='text')], created_at=1725747886, incomplete_at=None, incomplete_details=None, metadata={}, object='thread.message', role='assistant', run_id='run_q02JzYvKQRuPGVxpXQWbv7UF', status=None, thread_id='thread_IP69Q4gApQOySqWmas5IdYe2')\n",
      "Message(id='msg_jZHgDVKH7QOn3XVBYyPilwwZ', assistant_id=None, attachments=[], completed_at=None, content=[TextContentBlock(text=Text(annotations=[], value='Задание для Игрока1. Поиграй с Игрок2. Ты ведущий. Игрок2 участник.'), type='text')], created_at=1725747883, incomplete_at=None, incomplete_details=None, metadata={}, object='thread.message', role='user', run_id=None, status=None, thread_id='thread_IP69Q4gApQOySqWmas5IdYe2')\n"
     ]
    }
   ],
   "source": [
    "for i in client.beta.threads.messages.list(thread_id = thread.id):\n",
    "  print(i)"
   ]
  },
  {
   "cell_type": "code",
   "execution_count": null,
   "metadata": {
    "colab": {
     "base_uri": "https://localhost:8080/"
    },
    "id": "rS112qYlkTju",
    "outputId": "277c5487-3c31-4f4a-ea41-bf44c8ea0883"
   },
   "outputs": [
    {
     "data": {
      "text/plain": [
       "MessageDeleted(id='msg_Y2YreYWSU8Jsw2WwGuXMV6D9', deleted=True, object='thread.message.deleted')"
      ]
     },
     "execution_count": 44,
     "metadata": {},
     "output_type": "execute_result"
    }
   ],
   "source": [
    "client.beta.threads.messages.delete(message_id=\"msg_Y2YreYWSU8Jsw2WwGuXMV6D9\", thread_id=thread.id)"
   ]
  },
  {
   "cell_type": "code",
   "execution_count": null,
   "metadata": {
    "id": "xHTVYYVSkQy1"
   },
   "outputs": [],
   "source": [
    "run = client.beta.threads.runs.create_and_poll(\n",
    "    thread_id = thread.id,\n",
    "    assistant_id = gamer2.id\n",
    ")"
   ]
  },
  {
   "cell_type": "code",
   "execution_count": null,
   "metadata": {
    "colab": {
     "base_uri": "https://localhost:8080/"
    },
    "id": "aOPSwXlMkk_9",
    "outputId": "3f4d28de-d2c6-4c9b-c454-0439921c458b"
   },
   "outputs": [
    {
     "name": "stdout",
     "output_type": "stream",
     "text": [
      "Message(id='msg_Hhdch27mD70UxPvOdLBSDXiU', assistant_id='asst_niPofmnU5U0j5ZVNgrZSuZ2i', attachments=[], completed_at=None, content=[TextContentBlock(text=Text(annotations=[], value='Твой выбор:\\n1. 1\\n2. 2\\n3. 3\\n\\nОтвет:'), type='text')], created_at=1725747888, incomplete_at=None, incomplete_details=None, metadata={}, object='thread.message', role='assistant', run_id='run_8SYScQBoUko2BDuNeX9cxMO1', status=None, thread_id='thread_IP69Q4gApQOySqWmas5IdYe2')\n",
      "Message(id='msg_n5tUzF4IoAT8nzZaZOKG9jNS', assistant_id='asst_j6i6NOwX9fdyMIT4lh7hOO5Y', attachments=[], completed_at=None, content=[TextContentBlock(text=Text(annotations=[], value='Отлично! Я загадал число от 1 до 3. Попробуй угадать, что это за число!'), type='text')], created_at=1725747886, incomplete_at=None, incomplete_details=None, metadata={}, object='thread.message', role='assistant', run_id='run_q02JzYvKQRuPGVxpXQWbv7UF', status=None, thread_id='thread_IP69Q4gApQOySqWmas5IdYe2')\n",
      "Message(id='msg_jZHgDVKH7QOn3XVBYyPilwwZ', assistant_id=None, attachments=[], completed_at=None, content=[TextContentBlock(text=Text(annotations=[], value='Задание для Игрока1. Поиграй с Игрок2. Ты ведущий. Игрок2 участник.'), type='text')], created_at=1725747883, incomplete_at=None, incomplete_details=None, metadata={}, object='thread.message', role='user', run_id=None, status=None, thread_id='thread_IP69Q4gApQOySqWmas5IdYe2')\n"
     ]
    }
   ],
   "source": [
    "for i in client.beta.threads.messages.list(thread_id = thread.id):\n",
    "  print(i)"
   ]
  },
  {
   "cell_type": "code",
   "execution_count": null,
   "metadata": {
    "id": "SXHn_e5PDev7"
   },
   "outputs": [],
   "source": [
    "client = openai.OpenAI(api_key=key)"
   ]
  },
  {
   "cell_type": "code",
   "execution_count": null,
   "metadata": {
    "id": "S7uYUuiIC9Mg"
   },
   "outputs": [],
   "source": [
    "gamer1  = client.beta.assistants.create(\n",
    "    name = \"Игрок1\",\n",
    "    instructions = \"\"\"Ты Игрок1. Ты играешь в угадай число c другим игроком.\n",
    "    Правила следующие: если ты ведущий, ты загадываешь число из множества {1,2,3}, а другой игрок пытается угадать его.\n",
    "    Если угадает, он выиграл, если нет - проиграл, если ты участник ты пытаешься угадать загаданное число\"\"\",\n",
    "    model = \"gpt-4o\"\n",
    ")\n",
    "gamer2  = client.beta.assistants.create(\n",
    "    name = \"Игрок2\",\n",
    "    instructions = \"\"\"Ты Игрок2. Ты играешь в угадай число c другим игроком.\n",
    "    Правила следующие: если ты ведущий, ты загадываешь число из множества {1,2,3}, а другой игрок пытается угадать его.\n",
    "    Если угадает, он выиграл, если нет - проиграл, если ты участник ты пытаешься угадать загаданное число\"\"\",\n",
    "    model = \"gpt-4o\"\n",
    ")\n",
    "gamer3  = client.beta.assistants.create(\n",
    "    name = \"Игрок3\",\n",
    "    instructions = \"\"\"Ты Игрок3. Ты играешь в угадай число c другим игроком.\n",
    "    Правила следующие: если ты ведущий, ты загадываешь число из множества {1,2,3}, а другой игрок пытается угадать его.\n",
    "    Если угадает, он выиграл, если нет - проиграл, если ты участник ты пытаешься угадать загаданное число\"\"\",\n",
    "    model = \"gpt-4o\"\n",
    ")\n",
    "gamer4  = client.beta.assistants.create(\n",
    "    name = \"Игрок4\",\n",
    "    instructions = \"\"\"Ты Игрок4. Ты играешь в угадай число c другим игроком.\n",
    "    Правила следующие: если ты ведущий, ты загадываешь число из множества {1,2,3}, а другой игрок пытается угадать его.\n",
    "    Если угадает, он выиграл, если нет - проиграл, если ты участник ты пытаешься угадать загаданное число\"\"\",\n",
    "    model = \"gpt-4o\"\n",
    ")"
   ]
  },
  {
   "cell_type": "code",
   "execution_count": null,
   "metadata": {
    "id": "AVZAFJzMDBeh"
   },
   "outputs": [],
   "source": [
    "thread1 = client.beta.threads.create()\n",
    "thread2 = client.beta.threads.create()\n",
    "thread3 = client.beta.threads.create()\n",
    "thread4 = client.beta.threads.create()"
   ]
  },
  {
   "cell_type": "code",
   "execution_count": null,
   "metadata": {
    "id": "vQdZa1CRDqQb"
   },
   "outputs": [],
   "source": [
    "message1 = client.beta.threads.messages.create(\n",
    "    thread_id = thread1.id,\n",
    "    role = \"user\",\n",
    "    content = \"Задание для Игрока1. Поиграй в игру с Игрок2. Ты ведущий\"\n",
    ")\n",
    "message2 = client.beta.threads.messages.create(\n",
    "    thread_id = thread2.id,\n",
    "    role = \"user\",\n",
    "    content = \"Задание для Игрока2. Поиграй в игру с Игрок1. Ты участник\"\n",
    ")\n"
   ]
  },
  {
   "cell_type": "code",
   "execution_count": null,
   "metadata": {
    "id": "7ZaCRXgvEKYu"
   },
   "outputs": [],
   "source": [
    "run = client.beta.threads.runs.create_and_poll(\n",
    "    thread_id = thread1.id,\n",
    "    assistant_id = gamer1.id\n",
    ")"
   ]
  },
  {
   "cell_type": "code",
   "execution_count": null,
   "metadata": {
    "colab": {
     "base_uri": "https://localhost:8080/",
     "height": 36
    },
    "id": "Txirju4DEQSI",
    "outputId": "354f93b6-5ec8-43a4-d466-1fac1f81203e"
   },
   "outputs": [
    {
     "data": {
      "application/vnd.google.colaboratory.intrinsic+json": {
       "type": "string"
      },
      "text/plain": [
       "'Отлично! Я готов быть ведущим.\\nЯ загадал число из множества {1, 2, 3}.\\n\\nИгрок2, попробуй угадать это число!'"
      ]
     },
     "execution_count": 73,
     "metadata": {},
     "output_type": "execute_result"
    }
   ],
   "source": [
    "msg = client.beta.threads.messages.list(thread_id = thread1.id).data[0].content[0].text.value\n",
    "msg"
   ]
  },
  {
   "cell_type": "code",
   "execution_count": null,
   "metadata": {
    "id": "AhXLYQfEEiYt"
   },
   "outputs": [],
   "source": [
    "message3 = client.beta.threads.messages.create(\n",
    "    thread_id = thread2.id,\n",
    "    role = \"user\",\n",
    "    content = \"Я игрок 2:\" + msg\n",
    ")\n",
    "run = client.beta.threads.runs.create_and_poll(\n",
    "    thread_id = thread2.id,\n",
    "    assistant_id = gamer2.id\n",
    ")"
   ]
  },
  {
   "cell_type": "code",
   "execution_count": null,
   "metadata": {
    "colab": {
     "base_uri": "https://localhost:8080/"
    },
    "id": "KiJSurb2GYIf",
    "outputId": "d7aae39c-f954-4963-d63d-a73a2c660c94"
   },
   "outputs": [
    {
     "data": {
      "text/plain": [
       "[Message(id='msg_Hs1cQtzimxDNwTGivlT7ViaB', assistant_id='asst_9SG6j9ONvKNpUqNl8jGkySRn', attachments=[], completed_at=None, content=[TextContentBlock(text=Text(annotations=[], value='Отлично! Я готов быть ведущим.\\nЯ загадал число из множества {1, 2, 3}.\\n\\nИгрок2, попробуй угадать это число!'), type='text')], created_at=1726042043, incomplete_at=None, incomplete_details=None, metadata={}, object='thread.message', role='assistant', run_id='run_RVDoHOOGjvzj1pIrpgzLtkTI', status=None, thread_id='thread_TxurpI7wLECUvq2jM4XmTgYs'),\n",
       " Message(id='msg_Qw7dUyidayV2oMlebFn1viE4', assistant_id=None, attachments=[], completed_at=None, content=[TextContentBlock(text=Text(annotations=[], value='Задание для Игрока1. Поиграй в игру с Игрок2. Ты ведущий'), type='text')], created_at=1726042041, incomplete_at=None, incomplete_details=None, metadata={}, object='thread.message', role='user', run_id=None, status=None, thread_id='thread_TxurpI7wLECUvq2jM4XmTgYs')]"
      ]
     },
     "execution_count": 75,
     "metadata": {},
     "output_type": "execute_result"
    }
   ],
   "source": [
    "client.beta.threads.messages.list(thread_id = thread1.id).data"
   ]
  },
  {
   "cell_type": "code",
   "execution_count": null,
   "metadata": {
    "colab": {
     "base_uri": "https://localhost:8080/"
    },
    "id": "tf7y2CJkGBqt",
    "outputId": "7b78218f-730a-416f-c0ab-b2afb3ce642e"
   },
   "outputs": [
    {
     "name": "stdout",
     "output_type": "stream",
     "text": [
      "Отлично! Я готов быть ведущим.\n",
      "Я загадал число из множества {1, 2, 3}.\n",
      "\n",
      "Игрок2, попробуй угадать это число!\n",
      "Задание для Игрока1. Поиграй в игру с Игрок2. Ты ведущий\n"
     ]
    }
   ],
   "source": [
    "for i in range(len(client.beta.threads.messages.list(thread_id = thread1.id).data)):\n",
    "  print(client.beta.threads.messages.list(thread_id = thread1.id).data[i].content[0].text.value)"
   ]
  },
  {
   "cell_type": "code",
   "execution_count": null,
   "metadata": {
    "colab": {
     "base_uri": "https://localhost:8080/"
    },
    "id": "bDL5pW8YHXtR",
    "outputId": "97369e28-d9bf-40dd-947f-6e684e7e942e"
   },
   "outputs": [
    {
     "name": "stdout",
     "output_type": "stream",
     "text": [
      "Я выбираю число 2.\n",
      "Я игрок 2:Отлично! Я готов быть ведущим.\n",
      "Я загадал число из множества {1, 2, 3}.\n",
      "\n",
      "Игрок2, попробуй угадать это число!\n",
      "Задание для Игрока2. Поиграй в игру с Игрок1. Ты участник\n"
     ]
    }
   ],
   "source": [
    "for i in range(len(client.beta.threads.messages.list(thread_id = thread2.id).data)):\n",
    "  print(client.beta.threads.messages.list(thread_id = thread2.id).data[i].content[0].text.value)"
   ]
  },
  {
   "cell_type": "code",
   "execution_count": null,
   "metadata": {
    "colab": {
     "base_uri": "https://localhost:8080/",
     "height": 36
    },
    "id": "GqHvrUC5IF7H",
    "outputId": "6bfa5999-7a83-41b0-93d6-19b1e1e5e4a1"
   },
   "outputs": [
    {
     "data": {
      "application/vnd.google.colaboratory.intrinsic+json": {
       "type": "string"
      },
      "text/plain": [
       "'Я выбираю число 2.'"
      ]
     },
     "execution_count": 78,
     "metadata": {},
     "output_type": "execute_result"
    }
   ],
   "source": [
    "msg = client.beta.threads.messages.list(thread_id = thread2.id).data[0].content[0].text.value\n",
    "msg"
   ]
  },
  {
   "cell_type": "code",
   "execution_count": null,
   "metadata": {
    "id": "w77Al1fdH_kB"
   },
   "outputs": [],
   "source": [
    "message4 = client.beta.threads.messages.create(\n",
    "    thread_id = thread1.id,\n",
    "    role = \"user\",\n",
    "    content = \"Я игрок 2:\" + msg\n",
    ")"
   ]
  },
  {
   "cell_type": "code",
   "execution_count": null,
   "metadata": {
    "id": "PSm2blLwIL0F"
   },
   "outputs": [],
   "source": [
    "run = client.beta.threads.runs.create_and_poll(\n",
    "    thread_id = thread1.id,\n",
    "    assistant_id = gamer1.id\n",
    ")"
   ]
  },
  {
   "cell_type": "code",
   "execution_count": null,
   "metadata": {
    "colab": {
     "base_uri": "https://localhost:8080/"
    },
    "id": "dZVxEOYoIQui",
    "outputId": "c9879058-7c62-4bbc-dc0e-8f4484c83544"
   },
   "outputs": [
    {
     "name": "stdout",
     "output_type": "stream",
     "text": [
      "Мои поздравления! Ты угадал! Это действительно число 2.\n",
      "Хочешь сыграть еще раз?\n",
      "Я игрок 2:Я выбираю число 2.\n",
      "Отлично! Я готов быть ведущим.\n",
      "Я загадал число из множества {1, 2, 3}.\n",
      "\n",
      "Игрок2, попробуй угадать это число!\n",
      "Задание для Игрока1. Поиграй в игру с Игрок2. Ты ведущий\n"
     ]
    }
   ],
   "source": [
    "for i in range(len(client.beta.threads.messages.list(thread_id = thread1.id).data)):\n",
    "  print(client.beta.threads.messages.list(thread_id = thread1.id).data[i].content[0].text.value)"
   ]
  },
  {
   "cell_type": "markdown",
   "metadata": {
    "id": "5nPsBtT7JHgc"
   },
   "source": [
    "Далее ставлю ассистента"
   ]
  },
  {
   "cell_type": "code",
   "execution_count": null,
   "metadata": {
    "id": "kivHCzmcJuUJ"
   },
   "outputs": [],
   "source": [
    "gamer1  = client.beta.assistants.create(\n",
    "    name = \"Игрок1\",\n",
    "    instructions = \"\"\"Ты Игрок1. Ты играешь в угадай число c другим игроком.\n",
    "    Правила следующие: если ты ведущий, ты загадываешь число из множества {1,2,3}, а другой игрок пытается угадать его.\n",
    "    Если угадает, он выиграл, если нет - проиграл, если ты участник ты пытаешься угадать загаданное число\"\"\",\n",
    "    model = \"gpt-4o\"\n",
    ")\n",
    "gamer2  = client.beta.assistants.create(\n",
    "    name = \"Игрок2\",\n",
    "    instructions = \"\"\"Ты Игрок2. Ты играешь в угадай число c другим игроком.\n",
    "    Правила следующие: если ты ведущий, ты загадываешь число из множества {1,2,3}, а другой игрок пытается угадать его.\n",
    "    Если угадает, он выиграл, если нет - проиграл, если ты участник ты пытаешься угадать загаданное число\"\"\",\n",
    "    model = \"gpt-4o\"\n",
    ")\n",
    "gamer3  = client.beta.assistants.create(\n",
    "    name = \"Игрок3\",\n",
    "    instructions = \"\"\"Ты Игрок3. Ты играешь в угадай число c другим игроком.\n",
    "    Правила следующие: если ты ведущий, ты загадываешь число из множества {1,2,3}, а другой игрок пытается угадать его.\n",
    "    Если угадает, он выиграл, если нет - проиграл, если ты участник ты пытаешься угадать загаданное число\"\"\",\n",
    "    model = \"gpt-4o\"\n",
    ")\n",
    "gamer4  = client.beta.assistants.create(\n",
    "    name = \"Игрок4\",\n",
    "    instructions = \"\"\"Ты Игрок4. Ты играешь в угадай число c другим игроком.\n",
    "    Правила следующие: если ты ведущий, ты загадываешь число из множества {1,2,3}, а другой игрок пытается угадать его.\n",
    "    Если угадает, он выиграл, если нет - проиграл, если ты участник ты пытаешься угадать загаданное число\"\"\",\n",
    "    model = \"gpt-4o\"\n",
    ")"
   ]
  },
  {
   "cell_type": "code",
   "execution_count": null,
   "metadata": {
    "id": "ldW6sKQiJwsz"
   },
   "outputs": [],
   "source": [
    "thread1 = client.beta.threads.create()\n",
    "thread2 = client.beta.threads.create()\n",
    "thread3 = client.beta.threads.create()\n",
    "thread4 = client.beta.threads.create()"
   ]
  },
  {
   "cell_type": "code",
   "execution_count": null,
   "metadata": {
    "colab": {
     "base_uri": "https://localhost:8080/"
    },
    "id": "asDyr68NJE3B",
    "outputId": "edb9cffd-3493-4967-f3f4-93f03c979d47"
   },
   "outputs": [
    {
     "data": {
      "text/plain": [
       "[]"
      ]
     },
     "execution_count": 94,
     "metadata": {},
     "output_type": "execute_result"
    }
   ],
   "source": [
    "client.beta.threads.messages.list(thread_id = thread1.id).data"
   ]
  },
  {
   "cell_type": "code",
   "execution_count": null,
   "metadata": {
    "id": "d2JZGnpXJ1OM"
   },
   "outputs": [],
   "source": [
    "message1 = client.beta.threads.messages.create(\n",
    "    thread_id = thread1.id,\n",
    "    role = \"user\",\n",
    "    content = \"Задание для Игрока1. Поиграй в игру с Игрок2. Ты ведущий\"\n",
    ")\n",
    "message2 = client.beta.threads.messages.create(\n",
    "    thread_id = thread2.id,\n",
    "    role = \"user\",\n",
    "    content = \"Задание для Игрока2. Поиграй в игру с Игрок1. Ты участник\"\n",
    ")\n"
   ]
  },
  {
   "cell_type": "code",
   "execution_count": null,
   "metadata": {
    "id": "ypiKo42MJ4tg"
   },
   "outputs": [],
   "source": [
    "run = client.beta.threads.runs.create_and_poll(\n",
    "    thread_id = thread1.id,\n",
    "    assistant_id = gamer1.id\n",
    ")"
   ]
  },
  {
   "cell_type": "code",
   "execution_count": null,
   "metadata": {
    "colab": {
     "base_uri": "https://localhost:8080/",
     "height": 36
    },
    "id": "jNryN2LrJ89U",
    "outputId": "97df3fb2-f11e-43cd-cb31-52a4d57f47ec"
   },
   "outputs": [
    {
     "data": {
      "application/vnd.google.colaboratory.intrinsic+json": {
       "type": "string"
      },
      "text/plain": [
       "'Отлично, я загадал число из множества {1, 2, 3}. Попробуй угадать его!'"
      ]
     },
     "execution_count": 97,
     "metadata": {},
     "output_type": "execute_result"
    }
   ],
   "source": [
    "msg = client.beta.threads.messages.list(thread_id = thread1.id).data[0].content[0].text.value\n",
    "msg"
   ]
  },
  {
   "cell_type": "code",
   "execution_count": null,
   "metadata": {
    "id": "YPSawEPuJ-xw"
   },
   "outputs": [],
   "source": [
    "message4 = client.beta.threads.messages.create(\n",
    "    thread_id = thread2.id,\n",
    "    role = \"assistant\",\n",
    "    content = \"Я игрок 1:\" + msg\n",
    ")"
   ]
  },
  {
   "cell_type": "code",
   "execution_count": null,
   "metadata": {
    "id": "SevjVOhLKBg1"
   },
   "outputs": [],
   "source": [
    "run = client.beta.threads.runs.create_and_poll(\n",
    "    thread_id = thread2.id,\n",
    "    assistant_id = gamer2.id\n",
    ")"
   ]
  },
  {
   "cell_type": "code",
   "execution_count": null,
   "metadata": {
    "colab": {
     "base_uri": "https://localhost:8080/"
    },
    "id": "mX_aXRC2JE3C",
    "outputId": "5e0bb110-d351-48f0-df0a-05ce332bde47"
   },
   "outputs": [
    {
     "name": "stdout",
     "output_type": "stream",
     "text": [
      "Отлично, я загадал число из множества {1, 2, 3}. Попробуй угадать его!\n",
      "Задание для Игрока1. Поиграй в игру с Игрок2. Ты ведущий\n"
     ]
    }
   ],
   "source": [
    "for i in range(len(client.beta.threads.messages.list(thread_id = thread1.id).data)):\n",
    "  print(client.beta.threads.messages.list(thread_id = thread1.id).data[i].content[0].text.value)"
   ]
  },
  {
   "cell_type": "code",
   "execution_count": null,
   "metadata": {
    "colab": {
     "base_uri": "https://localhost:8080/"
    },
    "id": "Q6Cv6uzjJE3C",
    "outputId": "bc87d5b4-b8fe-4cbe-e680-ae204de63875"
   },
   "outputs": [
    {
     "name": "stdout",
     "output_type": "stream",
     "text": [
      "Мой выбор - 2.\n",
      "Я игрок 1:Отлично, я загадал число из множества {1, 2, 3}. Попробуй угадать его!\n",
      "Задание для Игрока2. Поиграй в игру с Игрок1. Ты участник\n"
     ]
    }
   ],
   "source": [
    "for i in range(len(client.beta.threads.messages.list(thread_id = thread2.id).data)):\n",
    "  print(client.beta.threads.messages.list(thread_id = thread2.id).data[i].content[0].text.value)"
   ]
  },
  {
   "cell_type": "code",
   "execution_count": null,
   "metadata": {
    "colab": {
     "base_uri": "https://localhost:8080/",
     "height": 36
    },
    "id": "QpfGBZW-JE3D",
    "outputId": "d60a9521-6d96-4e15-abd9-54044b2810e7"
   },
   "outputs": [
    {
     "data": {
      "application/vnd.google.colaboratory.intrinsic+json": {
       "type": "string"
      },
      "text/plain": [
       "'Мой выбор - 2.'"
      ]
     },
     "execution_count": 102,
     "metadata": {},
     "output_type": "execute_result"
    }
   ],
   "source": [
    "msg = client.beta.threads.messages.list(thread_id = thread2.id).data[0].content[0].text.value\n",
    "msg"
   ]
  },
  {
   "cell_type": "code",
   "execution_count": null,
   "metadata": {
    "id": "3CjVRwS4JE3D"
   },
   "outputs": [],
   "source": [
    "message4 = client.beta.threads.messages.create(\n",
    "    thread_id = thread1.id,\n",
    "    role = \"assistant\",\n",
    "    content = \"Я игрок 2:\" + msg\n",
    ")"
   ]
  },
  {
   "cell_type": "code",
   "execution_count": null,
   "metadata": {
    "id": "QKrNZJ4UJE3E"
   },
   "outputs": [],
   "source": [
    "run = client.beta.threads.runs.create_and_poll(\n",
    "    thread_id = thread1.id,\n",
    "    assistant_id = gamer1.id\n",
    ")"
   ]
  },
  {
   "cell_type": "code",
   "execution_count": null,
   "metadata": {
    "colab": {
     "base_uri": "https://localhost:8080/"
    },
    "id": "gjbyNZ6MJE3E",
    "outputId": "751d4478-a7f7-4cea-cac0-3b75af04d68d"
   },
   "outputs": [
    {
     "name": "stdout",
     "output_type": "stream",
     "text": [
      "Поздравляю! Ты угадал! Моё число было 2! Хочешь сыграть ещё раз?\n",
      "Я игрок 2:Мой выбор - 2.\n",
      "Отлично, я загадал число из множества {1, 2, 3}. Попробуй угадать его!\n",
      "Задание для Игрока1. Поиграй в игру с Игрок2. Ты ведущий\n"
     ]
    }
   ],
   "source": [
    "for i in range(len(client.beta.threads.messages.list(thread_id = thread1.id).data)):\n",
    "  print(client.beta.threads.messages.list(thread_id = thread1.id).data[i].content[0].text.value)"
   ]
  },
  {
   "cell_type": "markdown",
   "metadata": {
    "id": "11D8eXUXMgYD"
   },
   "source": [
    "_______________________________________________________________\n",
    "\n",
    "STOP IS TO HELP"
   ]
  },
  {
   "cell_type": "code",
   "execution_count": null,
   "metadata": {
    "id": "207pXTn-MiIH"
   },
   "outputs": [],
   "source": [
    "first_one  = client.beta.assistants.create(\n",
    "    name = \"Manager\",\n",
    "    instructions = \"\"\"Your goal is to make a plan of completing the task which user gives you and sent the plan to the completer\"\"\",\n",
    "    model = \"gpt-4o\"\n",
    ")\n",
    "second_one  = client.beta.assistants.create(\n",
    "    name = \"Completer\",\n",
    "    instructions = \"\"\"Your goal is to manage the task accroding to the plan, manager gives you\"\"\",\n",
    "    model = \"gpt-4o\"\n",
    ")\n",
    "third_one  = client.beta.assistants.create(\n",
    "    name = \"Supervisor\",\n",
    "    instructions = \"\"\"Your goal is to check if the task user gave is managed by the completer. Write only <END> word if it so\"\"\",\n",
    "    model = \"gpt-4o\"\n",
    ")\n",
    "thread1 = client.beta.threads.create()\n",
    "thread2 = client.beta.threads.create()\n",
    "thread3 = client.beta.threads.create()\n",
    "\n",
    "first_one.thread = thread1\n",
    "second_one.thread = thread2\n",
    "third_one.thread = thread3\n",
    "task = \"Give me top 10 articles about LLM from wikipedia\"\n",
    "message = openai.beta.message.client.beta.threads.messages.create(\n",
    "    thread_id = thread1.id,\n",
    "    role = \"user\",\n",
    "    content = task\n",
    ")\n",
    "for i in [first_one, second_one, third_one]:\n",
    "  run = client.beta.threads.runs.create_and_poll(\n",
    "    thread_id = i.thread.id,\n",
    "    assistant_id = i.id\n",
    ")\n",
    "  msg =\n",
    "  message = client.beta.threads.messages.create(\n",
    "    thread_id = i.id,\n",
    "    role = \"user\",\n",
    "    content = f\"Я  {i.name}:\" + msg\n",
    ")\n",
    "\n"
   ]
  }
 ],
 "metadata": {
  "colab": {
   "provenance": []
  },
  "kernelspec": {
   "display_name": "Python 3 (ipykernel)",
   "language": "python",
   "name": "python3"
  },
  "language_info": {
   "codemirror_mode": {
    "name": "ipython",
    "version": 3
   },
   "file_extension": ".py",
   "mimetype": "text/x-python",
   "name": "python",
   "nbconvert_exporter": "python",
   "pygments_lexer": "ipython3",
   "version": "3.13.2"
  }
 },
 "nbformat": 4,
 "nbformat_minor": 4
}
